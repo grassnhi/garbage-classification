{
 "cells": [
  {
   "cell_type": "code",
   "execution_count": 2,
   "metadata": {},
   "outputs": [
    {
     "name": "stdout",
     "output_type": "stream",
     "text": [
      "Combined dataset created successfully.\n"
     ]
    }
   ],
   "source": [
    "import os\n",
    "import shutil\n",
    "import random\n",
    "from collections import Counter\n",
    "\n",
    "# Paths to the downloaded datasets\n",
    "dataset1_path = \"E:/Coding/garbage_classification/datasets/class_x6\"  # Data 6 class\n",
    "dataset2_path = \"E:/Coding/garbage_classification/datasets/class_x12\"  # Data 12 class\n",
    "\n",
    "# Destination directory for the combined dataset\n",
    "combined_dataset_path = \"E:/Coding/garbage_classification/datasets/combined_dataset\"\n",
    "\n",
    "# Create the destination directory if it doesn't exist\n",
    "os.makedirs(combined_dataset_path, exist_ok=True)\n",
    "\n",
    "# Function to copy images and labels from a dataset to the combined dataset\n",
    "def copy_dataset(source_path, destination_path):\n",
    "    for class_name in os.listdir(source_path):\n",
    "        # Map classes to desired categories\n",
    "        if class_name in [\"trash\", \"clothes\", \"shoes\"]:\n",
    "            continue  # Skip classes that don't fit into the desired categories\n",
    "        \n",
    "        # Categorize organic waste\n",
    "        if class_name == \"organic\" or class_name == \"biological\":\n",
    "            category = \"organic\"\n",
    "        # Categorize inorganic waste\n",
    "        elif class_name in [\"glass\", \"plastic\", \"paper\", \"cardboard\", \"white-glass\", \"brown-glass\", \"metal\"]:\n",
    "            category = \"inorganic\"\n",
    "        # Categorize recyclable waste\n",
    "        elif class_name in [\"glass\", \"plastic\", \"paper\", \"white-glass\", \"brown-glass\", \"metal\", \"battery\"]:\n",
    "            category = \"recyclable\"\n",
    "        else:\n",
    "            continue\n",
    "        \n",
    "        class_path = os.path.join(source_path, class_name)\n",
    "        destination_class_path = os.path.join(destination_path, category)\n",
    "        os.makedirs(destination_class_path, exist_ok=True)\n",
    "        \n",
    "        # Copy images\n",
    "        for file_name in os.listdir(class_path):\n",
    "            file_path = os.path.join(class_path, file_name)\n",
    "            shutil.copy(file_path, destination_class_path)\n",
    "\n",
    "# Combine datasets into three categories: organic, inorganic, and recyclable\n",
    "copy_dataset(dataset1_path, combined_dataset_path)  # Copy from 6-class dataset\n",
    "copy_dataset(dataset2_path, combined_dataset_path)  # Copy from 12-class dataset\n",
    "\n",
    "print(\"Combined dataset created successfully.\")\n"
   ]
  },
  {
   "cell_type": "code",
   "execution_count": 3,
   "metadata": {},
   "outputs": [
    {
     "name": "stdout",
     "output_type": "stream",
     "text": [
      "Directory Structure:\n",
      "- organic: Found\n",
      "- inorganic: Found\n",
      "- recyclable: Found\n",
      "\n",
      "Number of Images:\n",
      "- organic: 985 images\n",
      "- inorganic: 4957 images\n",
      "- recyclable: 945 images\n"
     ]
    }
   ],
   "source": [
    "# Check directory structure\n",
    "print(\"Directory Structure:\")\n",
    "for category in [\"organic\", \"inorganic\", \"recyclable\"]:\n",
    "    category_path = os.path.join(combined_dataset_path, category)\n",
    "    if os.path.isdir(category_path):\n",
    "        print(f\"- {category}: Found\")\n",
    "    else:\n",
    "        print(f\"- {category}: Not Found\")\n",
    "\n",
    "# Count number of images in each category\n",
    "print(\"\\nNumber of Images:\")\n",
    "for category in [\"organic\", \"inorganic\", \"recyclable\"]:\n",
    "    category_path = os.path.join(combined_dataset_path, category)\n",
    "    if os.path.isdir(category_path):\n",
    "        num_images = len(os.listdir(category_path))\n",
    "        print(f\"- {category}: {num_images} images\")\n",
    "    else:\n",
    "        print(f\"- {category}: N/A\")"
   ]
  },
  {
   "cell_type": "code",
   "execution_count": null,
   "metadata": {},
   "outputs": [],
   "source": [
    "\n",
    "# Define the combined dataset directory\n",
    "combined_dataset_path = \"/path/to/combined_dataset\"\n",
    "\n",
    "# Define the waste categories\n",
    "waste_categories = [\"organic\", \"inorganic\", \"recyclable\"]\n",
    "\n",
    "# Dictionary to store counts of images in each category\n",
    "image_counts = {}\n",
    "\n",
    "# Function to perform quality check on images\n",
    "def quality_check():\n",
    "    print(\"Performing quality check on images...\")\n",
    "    for category in waste_categories:\n",
    "        category_path = os.path.join(combined_dataset_path, category)\n",
    "        image_files = os.listdir(category_path)\n",
    "        # Check for any empty directories\n",
    "        if not image_files:\n",
    "            print(f\"Empty directory found in category: {category}\")\n",
    "        # Check for non-image files\n",
    "        non_image_files = [file for file in image_files if not file.lower().endswith(('.jpg', '.jpeg', '.png'))]\n",
    "        if non_image_files:\n",
    "            print(f\"Non-image files found in category {category}: {non_image_files}\")\n",
    "    print(\"Quality check completed.\")\n",
    "\n",
    "# Function to check balancedness of classes\n",
    "def check_balancedness():\n",
    "    print(\"Checking balancedness of classes...\")\n",
    "    for category in waste_categories:\n",
    "        category_path = os.path.join(combined_dataset_path, category)\n",
    "        image_counts[category] = len(os.listdir(category_path))\n",
    "    print(\"Number of Images:\")\n",
    "    for category, count in image_counts.items():\n",
    "        print(f\"- {category}: {count} images\")\n",
    "    print(\"Balancedness check completed.\")\n",
    "\n",
    "# Main function to perform quality check and balancedness check\n",
    "def main():\n",
    "    quality_check()\n",
    "    print(\"\\n\")\n",
    "    check_balancedness()\n",
    "\n",
    "if __name__ == \"__main__\":\n",
    "    main()\n"
   ]
  }
 ],
 "metadata": {
  "kernelspec": {
   "display_name": "Python 3",
   "language": "python",
   "name": "python3"
  },
  "language_info": {
   "codemirror_mode": {
    "name": "ipython",
    "version": 3
   },
   "file_extension": ".py",
   "mimetype": "text/x-python",
   "name": "python",
   "nbconvert_exporter": "python",
   "pygments_lexer": "ipython3",
   "version": "3.11.5"
  }
 },
 "nbformat": 4,
 "nbformat_minor": 2
}
